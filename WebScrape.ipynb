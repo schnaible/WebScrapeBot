{
 "cells": [
  {
   "cell_type": "code",
   "execution_count": 114,
   "id": "728ed8dd",
   "metadata": {},
   "outputs": [],
   "source": [
    "import random\n",
    "import requests\n",
    "from bs4 import BeautifulSoup"
   ]
  },
  {
   "cell_type": "code",
   "execution_count": 115,
   "id": "f70b653a",
   "metadata": {},
   "outputs": [
    {
     "name": "stdout",
     "output_type": "stream",
     "text": [
      "http://quotes.toscrape.com/page/4/\n"
     ]
    }
   ],
   "source": [
    "# The page we want to scrape. Tests connection\n",
    "pageNum = random.randint(0, 10)\n",
    "page = requests.get(\"https://quotes.toscrape.com/page/\" + str(pageNum))\n",
    "print(page.url)"
   ]
  },
  {
   "cell_type": "code",
   "execution_count": 116,
   "id": "96b7bc19",
   "metadata": {},
   "outputs": [],
   "source": [
    "# Get the HTML content and find all instances where class is quote\n",
    "soup = BeautifulSoup(page.content, 'html.parser')\n",
    "quotes = soup.find_all(class_=\"quote\")"
   ]
  },
  {
   "cell_type": "code",
   "execution_count": 117,
   "id": "93c1c47d",
   "metadata": {
    "scrolled": true
   },
   "outputs": [
    {
     "name": "stdout",
     "output_type": "stream",
     "text": [
      "“The truth is, everyone is going to hurt you. You just got to find the ones worth suffering for.”\n",
      "by Bob Marley\n",
      "\n"
     ]
    }
   ],
   "source": [
    "# Each page has 10 quotes, generate a random value in this range and pull the quote\n",
    "randInt = random.randint(0, 9)\n",
    "quoteText = quotes[randInt].get_text()\n",
    "cleanText = quoteText.strip(\"\\n\") # Removes newline characters for clean text\n",
    "quote = cleanText.split('(')[0]   # Do not get any text after the quote's author\n",
    "print(quote)"
   ]
  },
  {
   "cell_type": "code",
   "execution_count": null,
   "id": "284cf8b8",
   "metadata": {},
   "outputs": [],
   "source": []
  }
 ],
 "metadata": {
  "kernelspec": {
   "display_name": "Python 3 (ipykernel)",
   "language": "python",
   "name": "python3"
  },
  "language_info": {
   "codemirror_mode": {
    "name": "ipython",
    "version": 3
   },
   "file_extension": ".py",
   "mimetype": "text/x-python",
   "name": "python",
   "nbconvert_exporter": "python",
   "pygments_lexer": "ipython3",
   "version": "3.9.12"
  }
 },
 "nbformat": 4,
 "nbformat_minor": 5
}
