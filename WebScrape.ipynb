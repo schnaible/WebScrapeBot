{
  "nbformat": 4,
  "nbformat_minor": 0,
  "metadata": {
    "colab": {
      "name": "WebScrape.ipynb",
      "provenance": [],
      "collapsed_sections": []
    },
    "kernelspec": {
      "name": "python3",
      "display_name": "Python 3"
    },
    "language_info": {
      "name": "python"
    }
  },
  "cells": [
    {
      "cell_type": "markdown",
      "source": [
        "Simple web-scraping program using BeautifulSoup to pull a random quote from [quotes.toscrape.com](https://quotes.toscrape.com)"
      ],
      "metadata": {
        "id": "EOspBESBFZ9E"
      }
    },
    {
      "cell_type": "code",
      "execution_count": 1,
      "metadata": {
        "id": "-3ASuxdpEoP_"
      },
      "outputs": [],
      "source": [
        "import random\n",
        "import requests\n",
        "from bs4 import BeautifulSoup"
      ]
    },
    {
      "cell_type": "code",
      "source": [
        "# The page we want to scrape. Tests connection\n",
        "pageNum = random.randint(1, 10)\n",
        "page = requests.get(\"https://quotes.toscrape.com/page/\" + str(pageNum))\n",
        "print(page.url)\n",
        "\n",
        "# Get the HTML content and find all instances where class is quote\n",
        "soup = BeautifulSoup(page.content, 'html.parser')\n",
        "quotes = soup.find_all(class_=\"quote\")\n",
        "\n",
        "# Each page has 10 quotes, generate a random value in this range and pull the quote\n",
        "randInt = random.randint(0, 9)\n",
        "\n",
        "quoteText = quotes[randInt].find_all(class_=\"text\")[0].text     # Get the quote from the inner class\n",
        "quoteAuthor = quotes[randInt].find_all(class_=\"author\")[0].text # Get the Author from the inner class\n",
        "\n",
        "print(quoteText + '\\n' + quoteAuthor)"
      ],
      "metadata": {
        "colab": {
          "base_uri": "https://localhost:8080/"
        },
        "id": "D45a06EbErbi",
        "outputId": "6d9a5e82-b6fb-4712-a723-382a07333796"
      },
      "execution_count": 6,
      "outputs": [
        {
          "output_type": "stream",
          "name": "stdout",
          "text": [
            "http://quotes.toscrape.com/page/4/\n",
            "“Any fool can know. The point is to understand.”\n",
            "Albert Einstein\n"
          ]
        }
      ]
    }
  ]
}